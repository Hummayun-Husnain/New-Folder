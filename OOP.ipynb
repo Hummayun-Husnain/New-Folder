{
 "cells": [
  {
   "cell_type": "markdown",
   "metadata": {},
   "source": [
    "### Class\n",
    "    A class in programming is a blueprint for creating objects (instances). It defines a set of attributes and methods that the created objects will have. \n",
    "\n",
    "### Attributes\n",
    "    Attributes are variables that store data, and methods are functions that define behaviors.\n",
    "\n",
    "### Object\n",
    "    An object in programming is a specific thing created from a blueprint called a class. It has its own data and can do certain actions based on what the class defines.\n",
    "\n",
    "### Class Method\n",
    "    A class method is a special type of function that belongs to a class, but not to any individual object of that class. In simpler terms, it's an action that works on the entire class itself, rather than on a specific instance of the class.\n",
    "\n",
    "### Difference between class method and static method\n",
    "    Class method use class as first parameter but static mathod does not use class as first parameter.\n",
    "    Class method usually used to manipulate data to instantiate objects but static method is not used for something that is unique per instance.\n",
    "\n",
    "### Property\n",
    "    A property is a special kind of attribute that provides a controlled interface for accessing and potentially modifying an object's data. It's like a wrapper around a regular attribute that lets you define how that data is retrieved and even how it can be changed. It can be used to create read only attributes."
   ]
  },
  {
   "cell_type": "code",
   "execution_count": 11,
   "metadata": {},
   "outputs": [],
   "source": [
    "import csv\n",
    "\n",
    "# How to create a class:\n",
    "class Item:\n",
    "    pay_rate = 0.8 # The pay rate after 20% discount\n",
    "    all = []\n",
    "    # Functions created in classes are commonly called methods.\n",
    "    # self is used for object whose attributes are being used as other parameters. self is commomly used as first parameter, we can you any name for first parameter.\n",
    "    def __init__(self, name: str, price: float, quantity=0):\n",
    "        # Run validations to the received arguments\n",
    "        assert price >= 0, f\"Price {price} is not greater than or equal to zero!\"\n",
    "        assert quantity >= 0, f\"Quantity {quantity} is not greater or equal to zero!\"\n",
    "\n",
    "        # Assign to self object\n",
    "        self.name = name\n",
    "        self.price = price\n",
    "        self.quantity = quantity\n",
    "\n",
    "        # Actions to execute\n",
    "        Item.all.append(self)\n",
    "    \"\"\"\n",
    "    all @property functions are commented because they cause errors in other cells. To use these I need to use single or double underscore before attributes in class.\n",
    "    \"\"\"\n",
    "    # @property\n",
    "    # def price(self):\n",
    "    #     return self._price\n",
    "\n",
    "    def apply_discount(self):\n",
    "        self.price = self.price * self.pay_rate # pay_rate is not a variable but it can only be accessable by from class or instance level.\n",
    "\n",
    "    def apply_increment(self, increment_value):\n",
    "        self.price = self.price + self.price * increment_value\n",
    "\n",
    "    # @property\n",
    "    # def name(self):\n",
    "    #     # Property Decorator = Read-Only Attribute\n",
    "    #     return self.__name\n",
    "\n",
    "    # # By using setter we can change the value or set a condition of changing value\n",
    "    # @name.setter\n",
    "    # def name(self, value):\n",
    "    #     if len(value) > 10:\n",
    "    #         raise Exception(\"The name is too long!\")\n",
    "    #     else:\n",
    "    #         self.__name = value\n",
    "\n",
    "    def calculate_total_price(self):\n",
    "        return self.price * self.quantity\n",
    "\n",
    "    @classmethod\n",
    "    def instantiate_from_csv(cls):\n",
    "        with open('items.csv', 'r') as f:\n",
    "            reader = csv.DictReader(f)\n",
    "            items = list(reader)\n",
    "\n",
    "        for item in items:\n",
    "            Item(\n",
    "                name=item.get('name'),\n",
    "                price=float(item.get('price')),\n",
    "                quantity=int(item.get('quantity')),\n",
    "            )\n",
    "\n",
    "    @staticmethod\n",
    "    def is_integer(num):\n",
    "        # We will count out the floats that are point zero\n",
    "        # It will check if num is a floating number or not\n",
    "        if isinstance(num, float):\n",
    "            # Count out the floats that are point zero\n",
    "            return num.is_integer()\n",
    "        elif isinstance(num, int):\n",
    "            return True\n",
    "        else:\n",
    "            return False\n",
    "        \n",
    "    # \"__repr__\": repr stands for representing your object.\n",
    "    def __repr__(self):\n",
    "        return f\"Item('{self.name}', {self.price}, {self.quantity})\""
   ]
  },
  {
   "cell_type": "markdown",
   "metadata": {},
   "source": [
    "### How to create an instance of a class\n",
    "[Instance name] = [\"class name\"] ()"
   ]
  },
  {
   "cell_type": "markdown",
   "metadata": {},
   "source": [
    "### Methods to assign attributes"
   ]
  },
  {
   "cell_type": "code",
   "execution_count": 12,
   "metadata": {},
   "outputs": [],
   "source": [
    "# # 1) \n",
    "# item=Item()\n",
    "# item1.name = \"Phone\"\n",
    "# item1.price =100\n",
    "# item1.quantity = 5\n",
    "# # 2) using __init__\n",
    "item1 = Item(\"Phone\", 100, 1)"
   ]
  },
  {
   "cell_type": "code",
   "execution_count": 13,
   "metadata": {},
   "outputs": [],
   "source": [
    "item1 = Item(\"Phone\", 100, 1)\n",
    "item2 = Item(\"Laptop\", 1000, 3)\n",
    "item3 = Item(\"Cable\", 10, 5)\n",
    "item4 = Item(\"Mouse\", 50, 5)\n",
    "item5 = Item(\"Keyboard\", 75, 5)"
   ]
  },
  {
   "cell_type": "code",
   "execution_count": 14,
   "metadata": {},
   "outputs": [
    {
     "name": "stdout",
     "output_type": "stream",
     "text": [
      "{'__module__': '__main__', 'pay_rate': 0.8, 'all': [Item('Phone', 100, 1), Item('Phone', 100, 1), Item('Laptop', 1000, 3), Item('Cable', 10, 5), Item('Mouse', 50, 5), Item('Keyboard', 75, 5)], '__init__': <function Item.__init__ at 0x0000020224FF93A0>, 'apply_discount': <function Item.apply_discount at 0x0000020224FF8860>, 'apply_increment': <function Item.apply_increment at 0x0000020224FF9080>, 'calculate_total_price': <function Item.calculate_total_price at 0x0000020224FF91C0>, 'instantiate_from_csv': <classmethod(<function Item.instantiate_from_csv at 0x0000020224FF89A0>)>, 'is_integer': <staticmethod(<function Item.is_integer at 0x0000020224FF87C0>)>, '__repr__': <function Item.__repr__ at 0x0000020224FF8FE0>, '__dict__': <attribute '__dict__' of 'Item' objects>, '__weakref__': <attribute '__weakref__' of 'Item' objects>, '__doc__': None}\n",
      "{'name': 'Phone', 'price': 100, 'quantity': 1}\n"
     ]
    }
   ],
   "source": [
    "# \"__dict__\": dict is a short form of dictionary, it gives all the attributes that belong to the class. \n",
    "print(Item.__dict__) # All the attributes of Class level\n",
    "print(item1.__dict__) # All the attributes of instance level"
   ]
  },
  {
   "cell_type": "code",
   "execution_count": 15,
   "metadata": {},
   "outputs": [
    {
     "name": "stdout",
     "output_type": "stream",
     "text": [
      "80.0\n"
     ]
    }
   ],
   "source": [
    "item1.apply_discount()\n",
    "print(item1.price)"
   ]
  },
  {
   "cell_type": "markdown",
   "metadata": {},
   "source": [
    "## Child Class\n",
    "The main class is called parent class. If we want specific functionality for a unique object, we create a child class."
   ]
  },
  {
   "cell_type": "code",
   "execution_count": 16,
   "metadata": {},
   "outputs": [],
   "source": [
    "class Phone(Item):\n",
    "    def __init__(self, name: str, price: float, quantity=0, broken_phones=0):\n",
    "        # Call to super function to have access to all attributes / methods\n",
    "        super().__init__(\n",
    "            name, price, quantity\n",
    "        )\n",
    "\n",
    "        # Run validations to the received arguments\n",
    "        assert broken_phones >= 0, f\"Broken Phones {broken_phones} is not greater or equal to zero!\"\n",
    "\n",
    "        # Assign to self object\n",
    "        self.broken_phones = broken_phones"
   ]
  },
  {
   "cell_type": "code",
   "execution_count": 17,
   "metadata": {},
   "outputs": [
    {
     "name": "stdout",
     "output_type": "stream",
     "text": [
      "10000\n"
     ]
    }
   ],
   "source": [
    "phone1=Phone(\"jphone10\",500,20,3)\n",
    "print(phone1.calculate_total_price())"
   ]
  },
  {
   "cell_type": "code",
   "execution_count": 18,
   "metadata": {},
   "outputs": [
    {
     "name": "stdout",
     "output_type": "stream",
     "text": [
      "jPhone20\n"
     ]
    }
   ],
   "source": [
    "# Setting an attribute\n",
    "item1.name=\"jPhone20\"\n",
    "\n",
    "# Getting an attribute\n",
    "print(item1.name)"
   ]
  },
  {
   "cell_type": "code",
   "execution_count": null,
   "metadata": {},
   "outputs": [],
   "source": []
  }
 ],
 "metadata": {
  "kernelspec": {
   "display_name": "Python 3",
   "language": "python",
   "name": "python3"
  },
  "language_info": {
   "codemirror_mode": {
    "name": "ipython",
    "version": 3
   },
   "file_extension": ".py",
   "mimetype": "text/x-python",
   "name": "python",
   "nbconvert_exporter": "python",
   "pygments_lexer": "ipython3",
   "version": "3.12.3"
  }
 },
 "nbformat": 4,
 "nbformat_minor": 2
}
